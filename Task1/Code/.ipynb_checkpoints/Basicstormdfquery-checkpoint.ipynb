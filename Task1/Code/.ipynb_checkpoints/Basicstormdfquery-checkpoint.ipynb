{
 "cells": [
  {
   "cell_type": "code",
   "execution_count": 81,
   "id": "a75d6460-177a-4472-aa5b-504acdcb1882",
   "metadata": {},
   "outputs": [],
   "source": [
    "# Read in data\n",
    "import pandas as pd\n",
    "\n",
    "stormes = pd.read_csv('./../Data/Stormdata_2006.csv', encoding='iso-8859-1')\n",
    "queries= pd.read_csv('./../Data/QueriesToYT.csv', encoding='iso-8859-1')"
   ]
  },
  {
   "cell_type": "code",
   "execution_count": 82,
   "id": "943167ea-12a7-4284-9e75-0acc5917fc56",
   "metadata": {},
   "outputs": [
    {
     "data": {
      "text/plain": [
       "0           1/1/2006 0:00\n",
       "1           1/1/2006 0:00\n",
       "2           1/1/2006 0:00\n",
       "3           1/1/2006 0:00\n",
       "4           1/1/2006 0:00\n",
       "               ...       \n",
       "48590    10/16/2006 14:18\n",
       "48591    10/16/2006 15:30\n",
       "48592    10/16/2006 15:30\n",
       "48593    10/16/2006 16:45\n",
       "48594    10/27/2006 15:00\n",
       "Name: BEGIN_DATE_TIME, Length: 48595, dtype: object"
      ]
     },
     "execution_count": 82,
     "metadata": {},
     "output_type": "execute_result"
    }
   ],
   "source": [
    "stormes['BEGIN_DATE_TIME']"
   ]
  },
  {
   "cell_type": "code",
   "execution_count": 83,
   "id": "988d82b9-dc4d-4b23-bdb7-f3963e825ab7",
   "metadata": {
    "scrolled": true
   },
   "outputs": [
    {
     "data": {
      "text/plain": [
       "Index(['BEGIN_YEARMONTH', 'BEGIN_DAY', 'BEGIN_TIME', 'END_YEARMONTH',\n",
       "       'END_DAY', 'END_TIME', 'EPISODE_ID', 'EVENT_ID', 'STATE', 'STATE_FIPS',\n",
       "       'YEAR', 'MONTH_NAME', 'EVENT_TYPE', 'CZ_TYPE', 'CZ_FIPS', 'CZ_NAME',\n",
       "       'WFO', 'BEGIN_DATE_TIME', 'CZ_TIMEZONE', 'END_DATE_TIME',\n",
       "       'INJURIES_DIRECT', 'INJURIES_INDIRECT', 'DEATHS_DIRECT',\n",
       "       'DEATHS_INDIRECT', 'DAMAGE_PROPERTY', 'DAMAGE_CROPS', 'SOURCE',\n",
       "       'MAGNITUDE', 'MAGNITUDE_TYPE', 'FLOOD_CAUSE', 'CATEGORY', 'TOR_F_SCALE',\n",
       "       'TOR_LENGTH', 'TOR_WIDTH', 'TOR_OTHER_WFO', 'TOR_OTHER_CZ_STATE',\n",
       "       'TOR_OTHER_CZ_FIPS', 'TOR_OTHER_CZ_NAME', 'BEGIN_RANGE',\n",
       "       'BEGIN_AZIMUTH', 'BEGIN_LOCATION', 'END_RANGE', 'END_AZIMUTH',\n",
       "       'END_LOCATION', 'BEGIN_LAT', 'BEGIN_LON', 'END_LAT', 'END_LON',\n",
       "       'EPISODE_NARRATIVE', 'EVENT_NARRATIVE', 'LAST_MOD_DATE',\n",
       "       'LAST_MOD_TIME', 'LAST_CERT_DATE', 'LAST_CERT_TIME', 'LAST_MOD',\n",
       "       'LAST_CERT', 'ADDCORR_FLG', 'ADDCORR_DATE'],\n",
       "      dtype='object')"
      ]
     },
     "execution_count": 83,
     "metadata": {},
     "output_type": "execute_result"
    }
   ],
   "source": [
    "stormes.columns"
   ]
  },
  {
   "cell_type": "code",
   "execution_count": 84,
   "id": "8b5ebc37-c756-4469-933c-b9fc205fba88",
   "metadata": {},
   "outputs": [
    {
     "data": {
      "text/plain": [
       "Index(['Unnamed: 0', 'QUERY', 'month', 'day of the month', 'DAYSAFTERDBSTART',\n",
       "       'hour', 'minute', 'QUERYID', 'TIMEID', 'ANONID',\n",
       "       'MINUTESAFTERMIDNIGHT'],\n",
       "      dtype='object')"
      ]
     },
     "execution_count": 84,
     "metadata": {},
     "output_type": "execute_result"
    }
   ],
   "source": [
    "queries.columns"
   ]
  },
  {
   "cell_type": "code",
   "execution_count": 85,
   "id": "09b379b6-1fe7-4bc1-a4df-d015b38d3ca8",
   "metadata": {},
   "outputs": [
    {
     "data": {
      "text/html": [
       "<div>\n",
       "<style scoped>\n",
       "    .dataframe tbody tr th:only-of-type {\n",
       "        vertical-align: middle;\n",
       "    }\n",
       "\n",
       "    .dataframe tbody tr th {\n",
       "        vertical-align: top;\n",
       "    }\n",
       "\n",
       "    .dataframe thead th {\n",
       "        text-align: right;\n",
       "    }\n",
       "</style>\n",
       "<table border=\"1\" class=\"dataframe\">\n",
       "  <thead>\n",
       "    <tr style=\"text-align: right;\">\n",
       "      <th></th>\n",
       "      <th>BEGIN_YEARMONTH</th>\n",
       "      <th>BEGIN_DAY</th>\n",
       "      <th>BEGIN_TIME</th>\n",
       "      <th>END_YEARMONTH</th>\n",
       "      <th>END_DAY</th>\n",
       "      <th>END_TIME</th>\n",
       "      <th>EPISODE_ID</th>\n",
       "      <th>EVENT_ID</th>\n",
       "      <th>STATE</th>\n",
       "      <th>STATE_FIPS</th>\n",
       "      <th>...</th>\n",
       "      <th>EPISODE_NARRATIVE</th>\n",
       "      <th>EVENT_NARRATIVE</th>\n",
       "      <th>LAST_MOD_DATE</th>\n",
       "      <th>LAST_MOD_TIME</th>\n",
       "      <th>LAST_CERT_DATE</th>\n",
       "      <th>LAST_CERT_TIME</th>\n",
       "      <th>LAST_MOD</th>\n",
       "      <th>LAST_CERT</th>\n",
       "      <th>ADDCORR_FLG</th>\n",
       "      <th>ADDCORR_DATE</th>\n",
       "    </tr>\n",
       "  </thead>\n",
       "  <tbody>\n",
       "    <tr>\n",
       "      <th>0</th>\n",
       "      <td>200601</td>\n",
       "      <td>1</td>\n",
       "      <td>0</td>\n",
       "      <td>200601</td>\n",
       "      <td>31</td>\n",
       "      <td>2359</td>\n",
       "      <td>202408</td>\n",
       "      <td>5482479</td>\n",
       "      <td>COLORADO</td>\n",
       "      <td>8</td>\n",
       "      <td>...</td>\n",
       "      <td>The storm track favored northwest Colorado wit...</td>\n",
       "      <td>NaN</td>\n",
       "      <td>NaN</td>\n",
       "      <td>NaN</td>\n",
       "      <td>NaN</td>\n",
       "      <td>NaN</td>\n",
       "      <td>NaN</td>\n",
       "      <td>NaN</td>\n",
       "      <td>NaN</td>\n",
       "      <td>NaN</td>\n",
       "    </tr>\n",
       "    <tr>\n",
       "      <th>1</th>\n",
       "      <td>200601</td>\n",
       "      <td>1</td>\n",
       "      <td>0</td>\n",
       "      <td>200601</td>\n",
       "      <td>31</td>\n",
       "      <td>2359</td>\n",
       "      <td>203632</td>\n",
       "      <td>5486559</td>\n",
       "      <td>TEXAS</td>\n",
       "      <td>48</td>\n",
       "      <td>...</td>\n",
       "      <td>NaN</td>\n",
       "      <td>NaN</td>\n",
       "      <td>NaN</td>\n",
       "      <td>NaN</td>\n",
       "      <td>NaN</td>\n",
       "      <td>NaN</td>\n",
       "      <td>NaN</td>\n",
       "      <td>NaN</td>\n",
       "      <td>NaN</td>\n",
       "      <td>NaN</td>\n",
       "    </tr>\n",
       "    <tr>\n",
       "      <th>2</th>\n",
       "      <td>200601</td>\n",
       "      <td>1</td>\n",
       "      <td>0</td>\n",
       "      <td>200601</td>\n",
       "      <td>31</td>\n",
       "      <td>2359</td>\n",
       "      <td>203632</td>\n",
       "      <td>5486558</td>\n",
       "      <td>TEXAS</td>\n",
       "      <td>48</td>\n",
       "      <td>...</td>\n",
       "      <td>NaN</td>\n",
       "      <td>Drought conditions intensified across all of S...</td>\n",
       "      <td>NaN</td>\n",
       "      <td>NaN</td>\n",
       "      <td>NaN</td>\n",
       "      <td>NaN</td>\n",
       "      <td>NaN</td>\n",
       "      <td>NaN</td>\n",
       "      <td>NaN</td>\n",
       "      <td>NaN</td>\n",
       "    </tr>\n",
       "  </tbody>\n",
       "</table>\n",
       "<p>3 rows × 58 columns</p>\n",
       "</div>"
      ],
      "text/plain": [
       "   BEGIN_YEARMONTH  BEGIN_DAY  BEGIN_TIME  END_YEARMONTH  END_DAY  END_TIME  \\\n",
       "0           200601          1           0         200601       31      2359   \n",
       "1           200601          1           0         200601       31      2359   \n",
       "2           200601          1           0         200601       31      2359   \n",
       "\n",
       "   EPISODE_ID  EVENT_ID     STATE  STATE_FIPS  ...  \\\n",
       "0      202408   5482479  COLORADO           8  ...   \n",
       "1      203632   5486559     TEXAS          48  ...   \n",
       "2      203632   5486558     TEXAS          48  ...   \n",
       "\n",
       "                                   EPISODE_NARRATIVE  \\\n",
       "0  The storm track favored northwest Colorado wit...   \n",
       "1                                                NaN   \n",
       "2                                                NaN   \n",
       "\n",
       "                                     EVENT_NARRATIVE LAST_MOD_DATE  \\\n",
       "0                                                NaN           NaN   \n",
       "1                                                NaN           NaN   \n",
       "2  Drought conditions intensified across all of S...           NaN   \n",
       "\n",
       "  LAST_MOD_TIME  LAST_CERT_DATE LAST_CERT_TIME LAST_MOD LAST_CERT ADDCORR_FLG  \\\n",
       "0           NaN             NaN            NaN      NaN       NaN         NaN   \n",
       "1           NaN             NaN            NaN      NaN       NaN         NaN   \n",
       "2           NaN             NaN            NaN      NaN       NaN         NaN   \n",
       "\n",
       "  ADDCORR_DATE  \n",
       "0          NaN  \n",
       "1          NaN  \n",
       "2          NaN  \n",
       "\n",
       "[3 rows x 58 columns]"
      ]
     },
     "execution_count": 85,
     "metadata": {},
     "output_type": "execute_result"
    }
   ],
   "source": [
    "stormes.head(3)"
   ]
  },
  {
   "cell_type": "code",
   "execution_count": 86,
   "id": "51986ec8-33ac-4159-ab5b-4add24cb0275",
   "metadata": {},
   "outputs": [
    {
     "data": {
      "text/html": [
       "<div>\n",
       "<style scoped>\n",
       "    .dataframe tbody tr th:only-of-type {\n",
       "        vertical-align: middle;\n",
       "    }\n",
       "\n",
       "    .dataframe tbody tr th {\n",
       "        vertical-align: top;\n",
       "    }\n",
       "\n",
       "    .dataframe thead th {\n",
       "        text-align: right;\n",
       "    }\n",
       "</style>\n",
       "<table border=\"1\" class=\"dataframe\">\n",
       "  <thead>\n",
       "    <tr style=\"text-align: right;\">\n",
       "      <th></th>\n",
       "      <th>Unnamed: 0</th>\n",
       "      <th>QUERY</th>\n",
       "      <th>month</th>\n",
       "      <th>day of the month</th>\n",
       "      <th>DAYSAFTERDBSTART</th>\n",
       "      <th>hour</th>\n",
       "      <th>minute</th>\n",
       "      <th>QUERYID</th>\n",
       "      <th>TIMEID</th>\n",
       "      <th>ANONID</th>\n",
       "      <th>MINUTESAFTERMIDNIGHT</th>\n",
       "    </tr>\n",
       "  </thead>\n",
       "  <tbody>\n",
       "    <tr>\n",
       "      <th>0</th>\n",
       "      <td>0</td>\n",
       "      <td>jake peyton</td>\n",
       "      <td>march</td>\n",
       "      <td>1</td>\n",
       "      <td>0</td>\n",
       "      <td>0</td>\n",
       "      <td>13</td>\n",
       "      <td>2775687</td>\n",
       "      <td>5962961</td>\n",
       "      <td>154767</td>\n",
       "      <td>13</td>\n",
       "    </tr>\n",
       "    <tr>\n",
       "      <th>1</th>\n",
       "      <td>1</td>\n",
       "      <td>bush drinking video</td>\n",
       "      <td>april</td>\n",
       "      <td>26</td>\n",
       "      <td>56</td>\n",
       "      <td>9</td>\n",
       "      <td>31</td>\n",
       "      <td>2778308</td>\n",
       "      <td>5986392</td>\n",
       "      <td>53322</td>\n",
       "      <td>571</td>\n",
       "    </tr>\n",
       "    <tr>\n",
       "      <th>2</th>\n",
       "      <td>2</td>\n",
       "      <td>cant stop scratching my vagina</td>\n",
       "      <td>april</td>\n",
       "      <td>26</td>\n",
       "      <td>56</td>\n",
       "      <td>2</td>\n",
       "      <td>19</td>\n",
       "      <td>2774391</td>\n",
       "      <td>4104872</td>\n",
       "      <td>317691</td>\n",
       "      <td>139</td>\n",
       "    </tr>\n",
       "  </tbody>\n",
       "</table>\n",
       "</div>"
      ],
      "text/plain": [
       "   Unnamed: 0                           QUERY      month  day of the month  \\\n",
       "0           0                     jake peyton  march                     1   \n",
       "1           1             bush drinking video  april                    26   \n",
       "2           2  cant stop scratching my vagina  april                    26   \n",
       "\n",
       "   DAYSAFTERDBSTART  hour  minute  QUERYID   TIMEID  ANONID  \\\n",
       "0                 0     0      13  2775687  5962961  154767   \n",
       "1                56     9      31  2778308  5986392   53322   \n",
       "2                56     2      19  2774391  4104872  317691   \n",
       "\n",
       "   MINUTESAFTERMIDNIGHT  \n",
       "0                    13  \n",
       "1                   571  \n",
       "2                   139  "
      ]
     },
     "execution_count": 86,
     "metadata": {},
     "output_type": "execute_result"
    }
   ],
   "source": [
    "queries.head(3)"
   ]
  },
  {
   "cell_type": "code",
   "execution_count": 87,
   "id": "ed8dcf82-f571-4b40-92e9-b179260b5f01",
   "metadata": {},
   "outputs": [
    {
     "data": {
      "text/plain": [
       "0        2006\n",
       "1        2006\n",
       "2        2006\n",
       "3        2006\n",
       "4        2006\n",
       "         ... \n",
       "48590    2006\n",
       "48591    2006\n",
       "48592    2006\n",
       "48593    2006\n",
       "48594    2006\n",
       "Name: YEAR, Length: 48595, dtype: int64"
      ]
     },
     "execution_count": 87,
     "metadata": {},
     "output_type": "execute_result"
    }
   ],
   "source": [
    "stormes['YEAR']"
   ]
  },
  {
   "cell_type": "code",
   "execution_count": 88,
   "id": "6ec550aa-8cc1-4b62-9030-07479b3ae55c",
   "metadata": {},
   "outputs": [
    {
     "data": {
      "text/plain": [
       "0        January  \n",
       "1        January  \n",
       "2        January  \n",
       "3        January  \n",
       "4        January  \n",
       "           ...    \n",
       "48590    October  \n",
       "48591    October  \n",
       "48592    October  \n",
       "48593    October  \n",
       "48594    October  \n",
       "Name: MONTH_NAME, Length: 48595, dtype: object"
      ]
     },
     "execution_count": 88,
     "metadata": {},
     "output_type": "execute_result"
    }
   ],
   "source": [
    "stormes['MONTH_NAME']"
   ]
  },
  {
   "cell_type": "code",
   "execution_count": 89,
   "id": "fd589d98-8877-43ab-b3ff-5fb6ed39b4e8",
   "metadata": {},
   "outputs": [],
   "source": [
    "stormes['END_DATE_TIME'] = pd.to_datetime(stormes['END_DATE_TIME'])\n",
    "stormes['BEGIN_DATE_TIME'] = pd.to_datetime(stormes['BEGIN_DATE_TIME'])"
   ]
  },
  {
   "cell_type": "code",
   "execution_count": 90,
   "id": "3c79e1fd-24bf-40ee-80f0-8d05e372b58f",
   "metadata": {},
   "outputs": [],
   "source": [
    "import pandas as pd\n",
    "from datetime import datetime\n",
    "\n",
    "# Convert month names to their numeric equivalent\n",
    "queries['month'] = queries['month'].str.strip().str.capitalize()\n",
    "\n",
    "# Convert month names to their numeric equivalent, ensuring 2-digit format\n",
    "queries['month_numeric'] = pd.to_datetime(queries['month'], format='%B').dt.month.astype(str).str.zfill(2)\n",
    "# Build the datetime string with the correct numeric month\n",
    "queries['QUERY_DATETIME'] = pd.to_datetime(\n",
    "    '2006-' + queries['month_numeric'].astype(str).str.zfill(2) + '-' + \n",
    "    queries['day of the month'].astype(str).str.zfill(2) + ' ' +\n",
    "    queries['hour'].astype(str).str.zfill(2) + ':' + \n",
    "    queries['minute'].astype(str).str.zfill(2) + ':00',\n",
    "    format=\"%Y-%m-%d %H:%M:%S\"\n",
    ")\n"
   ]
  },
  {
   "cell_type": "code",
   "execution_count": 93,
   "id": "aa8b4966-b6d2-4b84-a880-a577d49d017b",
   "metadata": {
    "scrolled": true
   },
   "outputs": [],
   "source": [
    "# Define the function to join based on the datetime range condition\n",
    "def join_on_date_range(stormes, queries):\n",
    "    result = []\n",
    "    \n",
    "    for _, query in queries.iterrows():\n",
    "        query_time = query['QUERY_DATETIME']\n",
    "        \n",
    "        # Filter stormes where BEGIN_DATE_TIME <= QUERY_DATETIME <= END_DATE_TIME\n",
    "        matched_stormes = stormes[\n",
    "            (stormes['BEGIN_DATE_TIME'] <= query_time) & \n",
    "            (stormes['END_DATE_TIME'] >= query_time)\n",
    "        ]\n",
    "        \n",
    "        # If there are matches, add the QUERY column to the matched rows\n",
    "        if not matched_stormes.empty:\n",
    "            matched_stormes_copy = matched_stormes.copy()  # Create a copy\n",
    "            matched_stormes_copy['QUERY'] = query['QUERY']  # Add the QUERY column\n",
    "            result.append(matched_stormes_copy)\n",
    "    \n",
    "    # Concatenate the list of matched results into a single dataframe\n",
    "    if result:\n",
    "        return pd.concat(result, ignore_index=True)\n",
    "    else:\n",
    "        return pd.DataFrame()  # Return empty dataframe if no matches\n",
    "\n",
    "# Perform the join\n",
    "joined_df = join_on_date_range(stormes, queries)\n"
   ]
  },
  {
   "cell_type": "code",
   "execution_count": 102,
   "id": "acc725fd-205a-42a8-8825-9d2aece13018",
   "metadata": {},
   "outputs": [],
   "source": [
    "def left_join_on_date_range(stormes, queries):\n",
    "    result = []\n",
    "\n",
    "    # Iterate over each query\n",
    "    for _, query in queries.iterrows():\n",
    "        query_time = query['QUERY_DATETIME']\n",
    "\n",
    "        # Filter stormes where BEGIN_DATE_TIME <= QUERY_DATETIME <= END_DATE_TIME\n",
    "        matched_stormes = stormes[\n",
    "            (stormes['BEGIN_DATE_TIME'] <= query_time) &\n",
    "            (stormes['END_DATE_TIME'] >= query_time)\n",
    "        ]\n",
    "\n",
    "        # If there are matches, add the QUERY column to the matched storm rows\n",
    "        if not matched_stormes.empty:\n",
    "            matched_stormes_copy = matched_stormes.copy()  # Create a copy to avoid modification\n",
    "            matched_stormes_copy['QUERY'] = query['QUERY']  # Add the QUERY column\n",
    "            result.append(matched_stormes_copy)\n",
    "        else:\n",
    "            # If no storm matches, keep the query row with NaN values for the storm data\n",
    "            empty_storm_row = pd.DataFrame([query], columns=queries.columns)\n",
    "            empty_storm_row = empty_storm_row.assign(**{col: None for col in stormes.columns})\n",
    "            empty_storm_row['QUERY'] = query['QUERY']  # Assign query column\n",
    "            result.append(empty_storm_row)\n",
    "\n",
    "    # Concatenate the list of matched results into a single dataframe\n",
    "    if result:\n",
    "        return pd.concat(result, ignore_index=True)\n",
    "    else:\n",
    "        return pd.DataFrame()  # Return an empty dataframe if no matches\n",
    "\n",
    "# Perform the left join\n",
    "joined_df2 = left_join_on_date_range(stormes, queries)\n"
   ]
  },
  {
   "cell_type": "code",
   "execution_count": 104,
   "id": "ea085805-a057-4fe3-bf79-d697134524bc",
   "metadata": {},
   "outputs": [
    {
     "data": {
      "text/plain": [
       "(499541, 59)"
      ]
     },
     "execution_count": 104,
     "metadata": {},
     "output_type": "execute_result"
    }
   ],
   "source": [
    "joined_df2.shape"
   ]
  },
  {
   "cell_type": "code",
   "execution_count": 95,
   "id": "d6f5e88b-87a6-4949-9004-60144d99a38e",
   "metadata": {},
   "outputs": [
    {
     "data": {
      "text/plain": [
       "Index(['BEGIN_YEARMONTH', 'BEGIN_DAY', 'BEGIN_TIME', 'END_YEARMONTH',\n",
       "       'END_DAY', 'END_TIME', 'EPISODE_ID', 'EVENT_ID', 'STATE', 'STATE_FIPS',\n",
       "       'YEAR', 'MONTH_NAME', 'EVENT_TYPE', 'CZ_TYPE', 'CZ_FIPS', 'CZ_NAME',\n",
       "       'WFO', 'BEGIN_DATE_TIME', 'CZ_TIMEZONE', 'END_DATE_TIME',\n",
       "       'INJURIES_DIRECT', 'INJURIES_INDIRECT', 'DEATHS_DIRECT',\n",
       "       'DEATHS_INDIRECT', 'DAMAGE_PROPERTY', 'DAMAGE_CROPS', 'SOURCE',\n",
       "       'MAGNITUDE', 'MAGNITUDE_TYPE', 'FLOOD_CAUSE', 'CATEGORY', 'TOR_F_SCALE',\n",
       "       'TOR_LENGTH', 'TOR_WIDTH', 'TOR_OTHER_WFO', 'TOR_OTHER_CZ_STATE',\n",
       "       'TOR_OTHER_CZ_FIPS', 'TOR_OTHER_CZ_NAME', 'BEGIN_RANGE',\n",
       "       'BEGIN_AZIMUTH', 'BEGIN_LOCATION', 'END_RANGE', 'END_AZIMUTH',\n",
       "       'END_LOCATION', 'BEGIN_LAT', 'BEGIN_LON', 'END_LAT', 'END_LON',\n",
       "       'EPISODE_NARRATIVE', 'EVENT_NARRATIVE', 'LAST_MOD_DATE',\n",
       "       'LAST_MOD_TIME', 'LAST_CERT_DATE', 'LAST_CERT_TIME', 'LAST_MOD',\n",
       "       'LAST_CERT', 'ADDCORR_FLG', 'ADDCORR_DATE', 'QUERY'],\n",
       "      dtype='object')"
      ]
     },
     "execution_count": 95,
     "metadata": {},
     "output_type": "execute_result"
    }
   ],
   "source": [
    "joined_df.columns"
   ]
  },
  {
   "cell_type": "code",
   "execution_count": 107,
   "id": "9434d7b5-8ba6-462e-a113-d84c8e5bd052",
   "metadata": {},
   "outputs": [
    {
     "data": {
      "text/html": [
       "<div>\n",
       "<style scoped>\n",
       "    .dataframe tbody tr th:only-of-type {\n",
       "        vertical-align: middle;\n",
       "    }\n",
       "\n",
       "    .dataframe tbody tr th {\n",
       "        vertical-align: top;\n",
       "    }\n",
       "\n",
       "    .dataframe thead th {\n",
       "        text-align: right;\n",
       "    }\n",
       "</style>\n",
       "<table border=\"1\" class=\"dataframe\">\n",
       "  <thead>\n",
       "    <tr style=\"text-align: right;\">\n",
       "      <th></th>\n",
       "      <th>EVENT_TYPE</th>\n",
       "      <th>QUERY</th>\n",
       "      <th>BEGIN_DATE_TIME</th>\n",
       "      <th>END_DATE_TIME</th>\n",
       "    </tr>\n",
       "  </thead>\n",
       "  <tbody>\n",
       "    <tr>\n",
       "      <th>0</th>\n",
       "      <td>Blizzard</td>\n",
       "      <td>jake peyton</td>\n",
       "      <td>2006-03-01 00:00:00</td>\n",
       "      <td>2006-03-01 06:35:00</td>\n",
       "    </tr>\n",
       "    <tr>\n",
       "      <th>1</th>\n",
       "      <td>Flood</td>\n",
       "      <td>jake peyton</td>\n",
       "      <td>2006-03-01 00:00:00</td>\n",
       "      <td>2006-03-31 23:59:00</td>\n",
       "    </tr>\n",
       "    <tr>\n",
       "      <th>2</th>\n",
       "      <td>Flood</td>\n",
       "      <td>jake peyton</td>\n",
       "      <td>2006-03-01 00:00:00</td>\n",
       "      <td>2006-03-31 23:59:00</td>\n",
       "    </tr>\n",
       "    <tr>\n",
       "      <th>3</th>\n",
       "      <td>Flood</td>\n",
       "      <td>jake peyton</td>\n",
       "      <td>2006-03-01 00:00:00</td>\n",
       "      <td>2006-03-31 23:59:00</td>\n",
       "    </tr>\n",
       "    <tr>\n",
       "      <th>4</th>\n",
       "      <td>Drought</td>\n",
       "      <td>jake peyton</td>\n",
       "      <td>2006-03-01 00:00:00</td>\n",
       "      <td>2006-03-31 23:59:00</td>\n",
       "    </tr>\n",
       "    <tr>\n",
       "      <th>...</th>\n",
       "      <td>...</td>\n",
       "      <td>...</td>\n",
       "      <td>...</td>\n",
       "      <td>...</td>\n",
       "    </tr>\n",
       "    <tr>\n",
       "      <th>499536</th>\n",
       "      <td>Heavy Snow</td>\n",
       "      <td>star wars cops</td>\n",
       "      <td>2006-03-12 22:30:00</td>\n",
       "      <td>2006-03-14 05:30:00</td>\n",
       "    </tr>\n",
       "    <tr>\n",
       "      <th>499537</th>\n",
       "      <td>Heavy Snow</td>\n",
       "      <td>star wars cops</td>\n",
       "      <td>2006-03-12 22:30:00</td>\n",
       "      <td>2006-03-14 05:30:00</td>\n",
       "    </tr>\n",
       "    <tr>\n",
       "      <th>499538</th>\n",
       "      <td>Wildfire</td>\n",
       "      <td>star wars cops</td>\n",
       "      <td>2006-03-12 23:00:00</td>\n",
       "      <td>2006-03-17 18:00:00</td>\n",
       "    </tr>\n",
       "    <tr>\n",
       "      <th>499539</th>\n",
       "      <td>Flash Flood</td>\n",
       "      <td>star wars cops</td>\n",
       "      <td>2006-03-13 00:00:00</td>\n",
       "      <td>2006-03-13 02:00:00</td>\n",
       "    </tr>\n",
       "    <tr>\n",
       "      <th>499540</th>\n",
       "      <td>Flash Flood</td>\n",
       "      <td>star wars cops</td>\n",
       "      <td>2006-03-13 01:00:00</td>\n",
       "      <td>2006-03-13 03:00:00</td>\n",
       "    </tr>\n",
       "  </tbody>\n",
       "</table>\n",
       "<p>499541 rows × 4 columns</p>\n",
       "</div>"
      ],
      "text/plain": [
       "         EVENT_TYPE           QUERY     BEGIN_DATE_TIME       END_DATE_TIME\n",
       "0          Blizzard     jake peyton 2006-03-01 00:00:00 2006-03-01 06:35:00\n",
       "1             Flood     jake peyton 2006-03-01 00:00:00 2006-03-31 23:59:00\n",
       "2             Flood     jake peyton 2006-03-01 00:00:00 2006-03-31 23:59:00\n",
       "3             Flood     jake peyton 2006-03-01 00:00:00 2006-03-31 23:59:00\n",
       "4           Drought     jake peyton 2006-03-01 00:00:00 2006-03-31 23:59:00\n",
       "...             ...             ...                 ...                 ...\n",
       "499536   Heavy Snow  star wars cops 2006-03-12 22:30:00 2006-03-14 05:30:00\n",
       "499537   Heavy Snow  star wars cops 2006-03-12 22:30:00 2006-03-14 05:30:00\n",
       "499538     Wildfire  star wars cops 2006-03-12 23:00:00 2006-03-17 18:00:00\n",
       "499539  Flash Flood  star wars cops 2006-03-13 00:00:00 2006-03-13 02:00:00\n",
       "499540  Flash Flood  star wars cops 2006-03-13 01:00:00 2006-03-13 03:00:00\n",
       "\n",
       "[499541 rows x 4 columns]"
      ]
     },
     "execution_count": 107,
     "metadata": {},
     "output_type": "execute_result"
    }
   ],
   "source": [
    "joined_df[['EVENT_TYPE','QUERY','BEGIN_DATE_TIME','END_DATE_TIME']]"
   ]
  },
  {
   "cell_type": "code",
   "execution_count": 100,
   "id": "aab78652-f79a-4b47-b551-164ac6efa149",
   "metadata": {},
   "outputs": [
    {
     "data": {
      "text/plain": [
       "(499541, 59)"
      ]
     },
     "execution_count": 100,
     "metadata": {},
     "output_type": "execute_result"
    }
   ],
   "source": [
    "joined_df.shape"
   ]
  },
  {
   "cell_type": "code",
   "execution_count": 101,
   "id": "481f20dc-35f4-4e9a-acca-98c23e1b5754",
   "metadata": {},
   "outputs": [
    {
     "data": {
      "text/plain": [
       "(2028, 13)"
      ]
     },
     "execution_count": 101,
     "metadata": {},
     "output_type": "execute_result"
    }
   ],
   "source": [
    "queries.shape"
   ]
  },
  {
   "cell_type": "markdown",
   "id": "9591c6f9-8b50-460b-841c-600cc28413d4",
   "metadata": {},
   "source": [
    "## Questions:\n",
    "- How do search queries related to extreme weather events change before, during, and after a major weather event?\n",
    "- How do search behaviors differ by region during extreme weather events?\n",
    "- What keywords do users search for when a specific type of weather event occurs, such as a tornado vs. a hurricane?\n",
    "- Do users tend to search more for weather-related information in preparation for events, or are they primarily reactive during and after the event?\n",
    "- How does media coverage of extreme weather events influence search behavior?"
   ]
  },
  {
   "cell_type": "code",
   "execution_count": 115,
   "id": "d49c8b7c-c211-4892-bf66-5489c2aaad36",
   "metadata": {},
   "outputs": [
    {
     "data": {
      "text/plain": [
       "443     2006-01-01 15:25:00\n",
       "503     2006-01-02 03:00:00\n",
       "507     2006-01-02 04:45:00\n",
       "514     2006-01-02 05:25:00\n",
       "529     2006-01-02 08:02:00\n",
       "                ...        \n",
       "48475   2006-09-28 17:34:00\n",
       "48517   2006-09-28 19:35:00\n",
       "48521   2006-09-29 01:37:00\n",
       "48533   2006-09-29 13:54:00\n",
       "48555   2006-09-30 16:32:00\n",
       "Name: BEGIN_DATE_TIME, Length: 1093, dtype: datetime64[ns]"
      ]
     },
     "execution_count": 115,
     "metadata": {},
     "output_type": "execute_result"
    }
   ],
   "source": [
    "stormes[stormes['EVENT_TYPE']==\"Tornado\"][\"BEGIN_DATE_TIME\"]"
   ]
  },
  {
   "cell_type": "code",
   "execution_count": 116,
   "id": "772dac9f-1a91-400e-807c-d9b9b8363527",
   "metadata": {},
   "outputs": [
    {
     "data": {
      "text/plain": [
       "443     2006-01-01 15:27:00\n",
       "503     2006-01-02 03:01:00\n",
       "507     2006-01-02 04:46:00\n",
       "514     2006-01-02 05:27:00\n",
       "529     2006-01-02 08:03:00\n",
       "                ...        \n",
       "48475   2006-09-28 17:44:00\n",
       "48517   2006-09-28 19:40:00\n",
       "48521   2006-09-29 01:37:00\n",
       "48533   2006-09-29 13:54:00\n",
       "48555   2006-09-30 16:32:00\n",
       "Name: END_DATE_TIME, Length: 1093, dtype: datetime64[ns]"
      ]
     },
     "execution_count": 116,
     "metadata": {},
     "output_type": "execute_result"
    }
   ],
   "source": [
    "stormes[stormes['EVENT_TYPE']==\"Tornado\"][\"END_DATE_TIME\"]"
   ]
  },
  {
   "cell_type": "code",
   "execution_count": 122,
   "id": "13c4d9a3-ff55-4279-90c9-148fae9927ec",
   "metadata": {},
   "outputs": [
    {
     "data": {
      "text/plain": [
       "0      2006-03-01 00:13:00\n",
       "1      2006-04-26 09:31:00\n",
       "2      2006-04-26 02:19:00\n",
       "3      2006-04-19 16:06:00\n",
       "4      2006-05-09 15:44:00\n",
       "               ...        \n",
       "2023   2006-05-24 11:40:00\n",
       "2024   2006-05-25 20:49:00\n",
       "2025   2006-03-04 13:40:00\n",
       "2026   2006-03-04 13:40:00\n",
       "2027   2006-03-13 01:10:00\n",
       "Name: QUERY_DATETIME, Length: 2028, dtype: datetime64[ns]"
      ]
     },
     "execution_count": 122,
     "metadata": {},
     "output_type": "execute_result"
    }
   ],
   "source": [
    "queries[\"QUERY_DATETIME\"]"
   ]
  },
  {
   "cell_type": "code",
   "execution_count": 127,
   "id": "936de906-5861-4538-b34e-4a419f722c64",
   "metadata": {},
   "outputs": [],
   "source": [
    "stormes = stormes[stormes['BEGIN_DATE_TIME'] >= '2006-03-01 00:00:00']\n",
    "stormes = stormes[stormes['END_DATE_TIME'] <= '2006-06-01 00:00:00']"
   ]
  },
  {
   "cell_type": "code",
   "execution_count": 138,
   "id": "ab1a01f4-4f64-4eae-922b-d65a47e553d3",
   "metadata": {},
   "outputs": [],
   "source": [
    "result=[]\n",
    "for start,end in zip(stormes[stormes['EVENT_TYPE']==\"Tornado\"][\"BEGIN_DATE_TIME\"],stormes[stormes['EVENT_TYPE']==\"Tornado\"][\"END_DATE_TIME\"]):\n",
    "    queries_before=queries[queries[\"QUERY_DATETIME\"]<start]\n",
    "    queries_during=queries[(queries[\"QUERY_DATETIME\"]>=start) & (queries[\"QUERY_DATETIME\"]<=end)]\n",
    "    queries_after=queries[queries[\"QUERY_DATETIME\"]>end]\n",
    "    before_count = queries_before.shape[0]\n",
    "    after_count = queries_after.shape[0]\n",
    "    during_count = queries_during.shape[0]\n",
    "    result.append({\n",
    "            'Tornado_ID': 'Tornado',  # Assuming 'EVENT_ID' is the unique identifier for each event\n",
    "            'Before_Count': before_count,\n",
    "            'After_Count': after_count,\n",
    "            'During_Count': during_count,\n",
    "            'Before_Queries': queries_before['QUERY'].tolist(),  # List of queries before\n",
    "            'After_Queries': queries_after['QUERY'].tolist(),   # List of queries after\n",
    "            'During_Queries': queries_during['QUERY'].tolist()\n",
    "        })\n",
    "result_df=pd.DataFrame(result)"
   ]
  },
  {
   "cell_type": "code",
   "execution_count": 139,
   "id": "3e1cb19a-1f4c-4426-9fc4-396fd789c6d3",
   "metadata": {},
   "outputs": [
    {
     "data": {
      "text/html": [
       "<div>\n",
       "<style scoped>\n",
       "    .dataframe tbody tr th:only-of-type {\n",
       "        vertical-align: middle;\n",
       "    }\n",
       "\n",
       "    .dataframe tbody tr th {\n",
       "        vertical-align: top;\n",
       "    }\n",
       "\n",
       "    .dataframe thead th {\n",
       "        text-align: right;\n",
       "    }\n",
       "</style>\n",
       "<table border=\"1\" class=\"dataframe\">\n",
       "  <thead>\n",
       "    <tr style=\"text-align: right;\">\n",
       "      <th></th>\n",
       "      <th>Tornado_ID</th>\n",
       "      <th>Before_Count</th>\n",
       "      <th>After_Count</th>\n",
       "      <th>During_Count</th>\n",
       "      <th>Before_Queries</th>\n",
       "      <th>After_Queries</th>\n",
       "      <th>During_Queries</th>\n",
       "    </tr>\n",
       "  </thead>\n",
       "  <tbody>\n",
       "    <tr>\n",
       "      <th>0</th>\n",
       "      <td>Tornado</td>\n",
       "      <td>179</td>\n",
       "      <td>1849</td>\n",
       "      <td>0</td>\n",
       "      <td>[jake peyton, elkins high school, slap happy, ...</td>\n",
       "      <td>[bush drinking video, cant stop scratching my ...</td>\n",
       "      <td>[]</td>\n",
       "    </tr>\n",
       "    <tr>\n",
       "      <th>1</th>\n",
       "      <td>Tornado</td>\n",
       "      <td>179</td>\n",
       "      <td>1849</td>\n",
       "      <td>0</td>\n",
       "      <td>[jake peyton, elkins high school, slap happy, ...</td>\n",
       "      <td>[bush drinking video, cant stop scratching my ...</td>\n",
       "      <td>[]</td>\n",
       "    </tr>\n",
       "    <tr>\n",
       "      <th>2</th>\n",
       "      <td>Tornado</td>\n",
       "      <td>179</td>\n",
       "      <td>1849</td>\n",
       "      <td>0</td>\n",
       "      <td>[jake peyton, elkins high school, slap happy, ...</td>\n",
       "      <td>[bush drinking video, cant stop scratching my ...</td>\n",
       "      <td>[]</td>\n",
       "    </tr>\n",
       "    <tr>\n",
       "      <th>3</th>\n",
       "      <td>Tornado</td>\n",
       "      <td>179</td>\n",
       "      <td>1849</td>\n",
       "      <td>0</td>\n",
       "      <td>[jake peyton, elkins high school, slap happy, ...</td>\n",
       "      <td>[bush drinking video, cant stop scratching my ...</td>\n",
       "      <td>[]</td>\n",
       "    </tr>\n",
       "    <tr>\n",
       "      <th>4</th>\n",
       "      <td>Tornado</td>\n",
       "      <td>179</td>\n",
       "      <td>1849</td>\n",
       "      <td>0</td>\n",
       "      <td>[jake peyton, elkins high school, slap happy, ...</td>\n",
       "      <td>[bush drinking video, cant stop scratching my ...</td>\n",
       "      <td>[]</td>\n",
       "    </tr>\n",
       "    <tr>\n",
       "      <th>...</th>\n",
       "      <td>...</td>\n",
       "      <td>...</td>\n",
       "      <td>...</td>\n",
       "      <td>...</td>\n",
       "      <td>...</td>\n",
       "      <td>...</td>\n",
       "      <td>...</td>\n",
       "    </tr>\n",
       "    <tr>\n",
       "      <th>635</th>\n",
       "      <td>Tornado</td>\n",
       "      <td>2019</td>\n",
       "      <td>9</td>\n",
       "      <td>0</td>\n",
       "      <td>[jake peyton, bush drinking video, cant stop s...</td>\n",
       "      <td>[blood gang, adult swim home movies, dave chap...</td>\n",
       "      <td>[]</td>\n",
       "    </tr>\n",
       "    <tr>\n",
       "      <th>636</th>\n",
       "      <td>Tornado</td>\n",
       "      <td>2019</td>\n",
       "      <td>9</td>\n",
       "      <td>0</td>\n",
       "      <td>[jake peyton, bush drinking video, cant stop s...</td>\n",
       "      <td>[blood gang, adult swim home movies, dave chap...</td>\n",
       "      <td>[]</td>\n",
       "    </tr>\n",
       "    <tr>\n",
       "      <th>637</th>\n",
       "      <td>Tornado</td>\n",
       "      <td>2019</td>\n",
       "      <td>9</td>\n",
       "      <td>0</td>\n",
       "      <td>[jake peyton, bush drinking video, cant stop s...</td>\n",
       "      <td>[blood gang, adult swim home movies, dave chap...</td>\n",
       "      <td>[]</td>\n",
       "    </tr>\n",
       "    <tr>\n",
       "      <th>638</th>\n",
       "      <td>Tornado</td>\n",
       "      <td>2019</td>\n",
       "      <td>9</td>\n",
       "      <td>0</td>\n",
       "      <td>[jake peyton, bush drinking video, cant stop s...</td>\n",
       "      <td>[blood gang, adult swim home movies, dave chap...</td>\n",
       "      <td>[]</td>\n",
       "    </tr>\n",
       "    <tr>\n",
       "      <th>639</th>\n",
       "      <td>Tornado</td>\n",
       "      <td>2020</td>\n",
       "      <td>8</td>\n",
       "      <td>0</td>\n",
       "      <td>[jake peyton, bush drinking video, cant stop s...</td>\n",
       "      <td>[blood gang, adult swim home movies, dave chap...</td>\n",
       "      <td>[]</td>\n",
       "    </tr>\n",
       "  </tbody>\n",
       "</table>\n",
       "<p>640 rows × 7 columns</p>\n",
       "</div>"
      ],
      "text/plain": [
       "    Tornado_ID  Before_Count  After_Count  During_Count  \\\n",
       "0      Tornado           179         1849             0   \n",
       "1      Tornado           179         1849             0   \n",
       "2      Tornado           179         1849             0   \n",
       "3      Tornado           179         1849             0   \n",
       "4      Tornado           179         1849             0   \n",
       "..         ...           ...          ...           ...   \n",
       "635    Tornado          2019            9             0   \n",
       "636    Tornado          2019            9             0   \n",
       "637    Tornado          2019            9             0   \n",
       "638    Tornado          2019            9             0   \n",
       "639    Tornado          2020            8             0   \n",
       "\n",
       "                                        Before_Queries  \\\n",
       "0    [jake peyton, elkins high school, slap happy, ...   \n",
       "1    [jake peyton, elkins high school, slap happy, ...   \n",
       "2    [jake peyton, elkins high school, slap happy, ...   \n",
       "3    [jake peyton, elkins high school, slap happy, ...   \n",
       "4    [jake peyton, elkins high school, slap happy, ...   \n",
       "..                                                 ...   \n",
       "635  [jake peyton, bush drinking video, cant stop s...   \n",
       "636  [jake peyton, bush drinking video, cant stop s...   \n",
       "637  [jake peyton, bush drinking video, cant stop s...   \n",
       "638  [jake peyton, bush drinking video, cant stop s...   \n",
       "639  [jake peyton, bush drinking video, cant stop s...   \n",
       "\n",
       "                                         After_Queries During_Queries  \n",
       "0    [bush drinking video, cant stop scratching my ...             []  \n",
       "1    [bush drinking video, cant stop scratching my ...             []  \n",
       "2    [bush drinking video, cant stop scratching my ...             []  \n",
       "3    [bush drinking video, cant stop scratching my ...             []  \n",
       "4    [bush drinking video, cant stop scratching my ...             []  \n",
       "..                                                 ...            ...  \n",
       "635  [blood gang, adult swim home movies, dave chap...             []  \n",
       "636  [blood gang, adult swim home movies, dave chap...             []  \n",
       "637  [blood gang, adult swim home movies, dave chap...             []  \n",
       "638  [blood gang, adult swim home movies, dave chap...             []  \n",
       "639  [blood gang, adult swim home movies, dave chap...             []  \n",
       "\n",
       "[640 rows x 7 columns]"
      ]
     },
     "execution_count": 139,
     "metadata": {},
     "output_type": "execute_result"
    }
   ],
   "source": [
    "result_df"
   ]
  },
  {
   "cell_type": "code",
   "execution_count": null,
   "id": "90360c69-5d1e-4e47-b41d-1a38552123ba",
   "metadata": {},
   "outputs": [],
   "source": []
  }
 ],
 "metadata": {
  "kernelspec": {
   "display_name": "Python 3 (ipykernel)",
   "language": "python",
   "name": "python3"
  },
  "language_info": {
   "codemirror_mode": {
    "name": "ipython",
    "version": 3
   },
   "file_extension": ".py",
   "mimetype": "text/x-python",
   "name": "python",
   "nbconvert_exporter": "python",
   "pygments_lexer": "ipython3",
   "version": "3.12.4"
  }
 },
 "nbformat": 4,
 "nbformat_minor": 5
}
