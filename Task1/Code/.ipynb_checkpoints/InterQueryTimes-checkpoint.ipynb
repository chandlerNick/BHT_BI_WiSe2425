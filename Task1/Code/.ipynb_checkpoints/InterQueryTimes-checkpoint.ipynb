{
 "cells": [
  {
   "cell_type": "markdown",
   "metadata": {},
   "source": [
    "## Per User/Session, what is the distribution of interclick times? Moreover, can we model the behavior of the user as a poisson process?"
   ]
  },
  {
   "cell_type": "code",
   "execution_count": 1,
   "metadata": {},
   "outputs": [],
   "source": [
    "# imports\n",
    "import pandas as pd\n",
    "import pyexasol\n",
    "\n",
    "pd.set_option(\"display.max_colwidth\", None)\n",
    "def printQuery(query, connection):\n",
    "    stmt = connection.export_to_pandas(query)\n",
    "    print(stmt.head())\n",
    "    return stmt\n",
    "\n",
    "host = '192.168.56.101/3D518979E1BE8B4E0A23B7A296E6AD35D5EC29DCCE01E5CC6ECBA7C9E38D8E96:8563'  # Don't forget to change the fingerprint\n",
    "user = 'sys'\n",
    "password = 'exasol'\n",
    "\n",
    "# Connect to Exasol\n",
    "conn = pyexasol.connect(dsn=host, \n",
    "                        user=user, \n",
    "                        password=password, \n",
    "                        debug=False, \n",
    "                        protocol_version=pyexasol.PROTOCOL_V1)"
   ]
  },
  {
   "cell_type": "code",
   "execution_count": 2,
   "metadata": {},
   "outputs": [
    {
     "data": {
      "text/plain": [
       "<ExaStatement session_id=1815975957734072449 stmt_idx=2>"
      ]
     },
     "execution_count": 2,
     "metadata": {},
     "output_type": "execute_result"
    }
   ],
   "source": [
    "# Get top 20 url queries, user, and time data\n",
    "# Interarrival time table with properly formatted date/time\n",
    "q =  '''\n",
    "CREATE TABLE AOL_SCHEMA.INTERARRIVAL_TIMES AS\n",
    "    SELECT \n",
    "        FACTS.ANONID,\n",
    "        CAST(\n",
    "        CONCAT(\n",
    "            '2006-',\n",
    "            LPAD(CASE \n",
    "                WHEN TIMEDIM.[day of the year] BETWEEN 60 AND 90 THEN '03'\n",
    "                WHEN TIMEDIM.[day of the year] BETWEEN 91 AND 120 THEN '04'\n",
    "                WHEN TIMEDIM.[day of the year] BETWEEN 121 AND 151 THEN '05'\n",
    "                ELSE '01'\n",
    "            END, 2, '0'), '-', \n",
    "            LPAD(TIMEDIM.[day of the month], 2, '0'), ' ',\n",
    "            LPAD(TIMEDIM.[hour], 2, '0'), ':', \n",
    "            LPAD(TIMEDIM.[minute], 2, '0'), ':', \n",
    "            LPAD(TIMEDIM.[second], 2, '0')\n",
    "        ) AS TIMESTAMP) AS time_as_datetime\n",
    "    FROM\n",
    "        AOL_SCHEMA.FACTS LEFT JOIN AOL_SCHEMA.TIMEDIM ON FACTS.TIMEID = TIMEDIM.ID\n",
    "        LEFT JOIN AOL_SCHEMA.URLDIM ON FACTS.URLID = URLDIM.ID\n",
    "    WHERE FACTS.CLICK = 1\n",
    "        AND URLDIM.URL IN (\n",
    "            SELECT URLDIM.URL\n",
    "            FROM AOL_SCHEMA.FACTS \n",
    "            JOIN AOL_SCHEMA.URLDIM ON AOL_SCHEMA.FACTS.URLID = AOL_SCHEMA.URLDIM.ID\n",
    "            WHERE AOL_SCHEMA.FACTS.CLICK = 1\n",
    "            GROUP BY URLDIM.URL\n",
    "            ORDER BY COUNT(AOL_SCHEMA.FACTS.CLICK) DESC\n",
    "            LIMIT 20\n",
    "        )\n",
    "        AND FACTS.ANONID IS NOT NULL\n",
    "        AND TIMEDIM.[hour] IS NOT NULL\n",
    "        AND TIMEDIM.[minute] IS NOT NULL\n",
    "        AND TIMEDIM.[second] IS NOT NULL\n",
    "        AND TIMEDIM.[day of the year] IS NOT NULL\n",
    "'''\n",
    "conn.execute(\"DROP TABLE AOL_SCHEMA.INTERARRIVAL_TIMES\")\n",
    "conn.execute(q)\n",
    "\n",
    "\n",
    "\n",
    "\n",
    "#df = printQuery(q, conn)\n"
   ]
  },
  {
   "cell_type": "markdown",
   "metadata": {},
   "source": [
    "#### Query weather data table to find date ranges of weather events"
   ]
  },
  {
   "cell_type": "code",
   "execution_count": null,
   "metadata": {},
   "outputs": [
    {
     "name": "stdout",
     "output_type": "stream",
     "text": [
      "          EVENT_TYPE        COUNT\n",
      "0               Hail  54162678808\n",
      "1  Thunderstorm Wind  26654957873\n",
      "2          High Wind   8229388280\n",
      "3            Drought   6667029189\n",
      "4       Winter Storm   6026282761\n"
     ]
    },
    {
     "data": {
      "text/html": [
       "<div>\n",
       "<style scoped>\n",
       "    .dataframe tbody tr th:only-of-type {\n",
       "        vertical-align: middle;\n",
       "    }\n",
       "\n",
       "    .dataframe tbody tr th {\n",
       "        vertical-align: top;\n",
       "    }\n",
       "\n",
       "    .dataframe thead th {\n",
       "        text-align: right;\n",
       "    }\n",
       "</style>\n",
       "<table border=\"1\" class=\"dataframe\">\n",
       "  <thead>\n",
       "    <tr style=\"text-align: right;\">\n",
       "      <th></th>\n",
       "      <th>EVENT_TYPE</th>\n",
       "      <th>COUNT</th>\n",
       "    </tr>\n",
       "  </thead>\n",
       "  <tbody>\n",
       "    <tr>\n",
       "      <th>0</th>\n",
       "      <td>Hail</td>\n",
       "      <td>54162678808</td>\n",
       "    </tr>\n",
       "    <tr>\n",
       "      <th>1</th>\n",
       "      <td>Thunderstorm Wind</td>\n",
       "      <td>26654957873</td>\n",
       "    </tr>\n",
       "    <tr>\n",
       "      <th>2</th>\n",
       "      <td>High Wind</td>\n",
       "      <td>8229388280</td>\n",
       "    </tr>\n",
       "    <tr>\n",
       "      <th>3</th>\n",
       "      <td>Drought</td>\n",
       "      <td>6667029189</td>\n",
       "    </tr>\n",
       "    <tr>\n",
       "      <th>4</th>\n",
       "      <td>Winter Storm</td>\n",
       "      <td>6026282761</td>\n",
       "    </tr>\n",
       "    <tr>\n",
       "      <th>5</th>\n",
       "      <td>Heavy Snow</td>\n",
       "      <td>5486928614</td>\n",
       "    </tr>\n",
       "    <tr>\n",
       "      <th>6</th>\n",
       "      <td>Strong Wind</td>\n",
       "      <td>4053520467</td>\n",
       "    </tr>\n",
       "    <tr>\n",
       "      <th>7</th>\n",
       "      <td>Tornado</td>\n",
       "      <td>3877637724</td>\n",
       "    </tr>\n",
       "    <tr>\n",
       "      <th>8</th>\n",
       "      <td>Winter Weather</td>\n",
       "      <td>3554173834</td>\n",
       "    </tr>\n",
       "    <tr>\n",
       "      <th>9</th>\n",
       "      <td>Flash Flood</td>\n",
       "      <td>3295677361</td>\n",
       "    </tr>\n",
       "  </tbody>\n",
       "</table>\n",
       "</div>"
      ],
      "text/plain": [
       "          EVENT_TYPE        COUNT\n",
       "0               Hail  54162678808\n",
       "1  Thunderstorm Wind  26654957873\n",
       "2          High Wind   8229388280\n",
       "3            Drought   6667029189\n",
       "4       Winter Storm   6026282761\n",
       "5         Heavy Snow   5486928614\n",
       "6        Strong Wind   4053520467\n",
       "7            Tornado   3877637724\n",
       "8     Winter Weather   3554173834\n",
       "9        Flash Flood   3295677361"
      ]
     },
     "execution_count": 9,
     "metadata": {},
     "output_type": "execute_result"
    }
   ],
   "source": [
    "\n",
    "# Top 10 most frequent events\n",
    "q = '''\n",
    "SELECT T.EVENT_TYPE, SUM(T.EVENT_ID) AS COUNT\n",
    "FROM AOL_SCHEMA.WEATHER_EVENTS T \n",
    "GROUP BY T.EVENT_TYPE\n",
    "ORDER BY COUNT DESC\n",
    "LIMIT 10\n",
    "'''\n",
    "\n",
    "\n",
    "\n",
    "# T.EVENT_TYPE = Tornado\n",
    "\n",
    "printQuery(q, conn)"
   ]
  },
  {
   "cell_type": "markdown",
   "metadata": {},
   "source": [
    "#### Sessions during natural disaster"
   ]
  },
  {
   "cell_type": "code",
   "execution_count": null,
   "metadata": {},
   "outputs": [
    {
     "name": "stdout",
     "output_type": "stream",
     "text": [
      "   ANONID            TIME_AS_DATETIME              LAGGEDDATETIME  \\\n",
      "0      25  2006-04-02 20:15:56.000000  2006-04-02 20:15:56.000000   \n",
      "1      25  2006-04-15 15:55:54.000000  2006-04-02 20:15:56.000000   \n",
      "2      25  2006-04-15 17:30:44.000000  2006-04-15 15:55:54.000000   \n",
      "3      29  2006-03-12 19:47:08.000000  2006-03-12 19:47:08.000000   \n",
      "4      29  2006-03-12 21:54:36.000000  2006-03-12 19:47:08.000000   \n",
      "\n",
      "   SECONDS_DIFFERENCE  MINUTES_DIFFERENCE  \n",
      "0                   0            0.000000  \n",
      "1             1107598        18459.966667  \n",
      "2                5690           94.833333  \n",
      "3                   0            0.000000  \n",
      "4                7648          127.466667  \n"
     ]
    }
   ],
   "source": [
    "# Obtain the anon ID's and times where there are more than 100 instances of clicking on a webpage in the top 20 most clicked webpages and the \n",
    "\n",
    "# The anonIDs, interclick times, and session info for those sessions occuring during a tornado\n",
    "q = '''\n",
    "SELECT \n",
    "    T1.ANONID,\n",
    "    T1.TIME_AS_DATETIME,\n",
    "    COALESCE(LAG(TIME_AS_DATETIME) OVER (PARTITION BY ANONID ORDER BY TIME_AS_DATETIME), TIME_AS_DATETIME) AS LaggedDateTime,\n",
    "    SECONDS_BETWEEN(T1.TIME_AS_DATETIME, COALESCE(LAG(TIME_AS_DATETIME) OVER (PARTITION BY ANONID ORDER BY TIME_AS_DATETIME), TIME_AS_DATETIME)) as Seconds_Difference,\n",
    "    MINUTES_BETWEEN(T1.TIME_AS_DATETIME, COALESCE(LAG(TIME_AS_DATETIME) OVER (PARTITION BY ANONID ORDER BY TIME_AS_DATETIME), TIME_AS_DATETIME)) as Minutes_Difference\n",
    "FROM \n",
    "    AOL_SCHEMA.INTERARRIVAL_TIMES as T1\n",
    "WHERE \n",
    "    T1.ANONID IN (\n",
    "        SELECT T2.ANONID\n",
    "        FROM AOL_SCHEMA.INTERARRIVAL_TIMES as T2\n",
    "        GROUP BY T2.ANONID\n",
    "        HAVING COUNT(T2.ANONID) >= 10\n",
    "    ) \n",
    "    AND EXISTS(\n",
    "        SELECT 1\n",
    "        FROM AOL_SCHEMA.WEATHER_EVENTS as T3 \n",
    "        WHERE \n",
    "            (T1.TIME_AS_DATETIME BETWEEN T3.BEGIN_DATE_TIME AND T3.END_DATE_TIME)\n",
    "            AND (T3.EVENT_TYPE = 'Tornado')\n",
    "    )\n",
    "ORDER BY\n",
    "    T1.ANONID,\n",
    "    T1.TIME_AS_DATETIME\n",
    "'''\n",
    "\n",
    "df_during_disaster = printQuery(q, conn)\n"
   ]
  },
  {
   "cell_type": "code",
   "execution_count": 60,
   "metadata": {},
   "outputs": [
    {
     "name": "stdout",
     "output_type": "stream",
     "text": [
      "(28517, 5)\n"
     ]
    },
    {
     "data": {
      "text/html": [
       "<div>\n",
       "<style scoped>\n",
       "    .dataframe tbody tr th:only-of-type {\n",
       "        vertical-align: middle;\n",
       "    }\n",
       "\n",
       "    .dataframe tbody tr th {\n",
       "        vertical-align: top;\n",
       "    }\n",
       "\n",
       "    .dataframe thead th {\n",
       "        text-align: right;\n",
       "    }\n",
       "</style>\n",
       "<table border=\"1\" class=\"dataframe\">\n",
       "  <thead>\n",
       "    <tr style=\"text-align: right;\">\n",
       "      <th></th>\n",
       "      <th>ANONID</th>\n",
       "      <th>TIME_AS_DATETIME</th>\n",
       "      <th>LAGGEDDATETIME</th>\n",
       "      <th>SECONDS_DIFFERENCE</th>\n",
       "      <th>MINUTES_DIFFERENCE</th>\n",
       "    </tr>\n",
       "  </thead>\n",
       "  <tbody>\n",
       "    <tr>\n",
       "      <th>0</th>\n",
       "      <td>25</td>\n",
       "      <td>2006-04-02 20:15:56.000000</td>\n",
       "      <td>2006-04-02 20:15:56.000000</td>\n",
       "      <td>0</td>\n",
       "      <td>0.000000</td>\n",
       "    </tr>\n",
       "    <tr>\n",
       "      <th>1</th>\n",
       "      <td>25</td>\n",
       "      <td>2006-04-15 15:55:54.000000</td>\n",
       "      <td>2006-04-02 20:15:56.000000</td>\n",
       "      <td>1107598</td>\n",
       "      <td>18459.966667</td>\n",
       "    </tr>\n",
       "    <tr>\n",
       "      <th>2</th>\n",
       "      <td>25</td>\n",
       "      <td>2006-04-15 17:30:44.000000</td>\n",
       "      <td>2006-04-15 15:55:54.000000</td>\n",
       "      <td>5690</td>\n",
       "      <td>94.833333</td>\n",
       "    </tr>\n",
       "    <tr>\n",
       "      <th>3</th>\n",
       "      <td>29</td>\n",
       "      <td>2006-03-12 19:47:08.000000</td>\n",
       "      <td>2006-03-12 19:47:08.000000</td>\n",
       "      <td>0</td>\n",
       "      <td>0.000000</td>\n",
       "    </tr>\n",
       "    <tr>\n",
       "      <th>4</th>\n",
       "      <td>29</td>\n",
       "      <td>2006-03-12 21:54:36.000000</td>\n",
       "      <td>2006-03-12 19:47:08.000000</td>\n",
       "      <td>7648</td>\n",
       "      <td>127.466667</td>\n",
       "    </tr>\n",
       "    <tr>\n",
       "      <th>...</th>\n",
       "      <td>...</td>\n",
       "      <td>...</td>\n",
       "      <td>...</td>\n",
       "      <td>...</td>\n",
       "      <td>...</td>\n",
       "    </tr>\n",
       "    <tr>\n",
       "      <th>28512</th>\n",
       "      <td>657282</td>\n",
       "      <td>2006-04-16 13:35:13.000000</td>\n",
       "      <td>2006-04-16 13:35:13.000000</td>\n",
       "      <td>0</td>\n",
       "      <td>0.000000</td>\n",
       "    </tr>\n",
       "    <tr>\n",
       "      <th>28513</th>\n",
       "      <td>657283</td>\n",
       "      <td>2006-04-02 16:37:24.000000</td>\n",
       "      <td>2006-04-02 16:37:24.000000</td>\n",
       "      <td>0</td>\n",
       "      <td>0.000000</td>\n",
       "    </tr>\n",
       "    <tr>\n",
       "      <th>28514</th>\n",
       "      <td>657283</td>\n",
       "      <td>2006-04-02 19:10:12.000000</td>\n",
       "      <td>2006-04-02 16:37:24.000000</td>\n",
       "      <td>9168</td>\n",
       "      <td>152.800000</td>\n",
       "    </tr>\n",
       "    <tr>\n",
       "      <th>28515</th>\n",
       "      <td>657283</td>\n",
       "      <td>2006-04-02 19:10:12.000000</td>\n",
       "      <td>2006-04-02 19:10:12.000000</td>\n",
       "      <td>0</td>\n",
       "      <td>0.000000</td>\n",
       "    </tr>\n",
       "    <tr>\n",
       "      <th>28516</th>\n",
       "      <td>657307</td>\n",
       "      <td>2006-04-07 15:49:40.000000</td>\n",
       "      <td>2006-04-07 15:49:40.000000</td>\n",
       "      <td>0</td>\n",
       "      <td>0.000000</td>\n",
       "    </tr>\n",
       "  </tbody>\n",
       "</table>\n",
       "<p>28517 rows × 5 columns</p>\n",
       "</div>"
      ],
      "text/plain": [
       "       ANONID            TIME_AS_DATETIME              LAGGEDDATETIME  \\\n",
       "0          25  2006-04-02 20:15:56.000000  2006-04-02 20:15:56.000000   \n",
       "1          25  2006-04-15 15:55:54.000000  2006-04-02 20:15:56.000000   \n",
       "2          25  2006-04-15 17:30:44.000000  2006-04-15 15:55:54.000000   \n",
       "3          29  2006-03-12 19:47:08.000000  2006-03-12 19:47:08.000000   \n",
       "4          29  2006-03-12 21:54:36.000000  2006-03-12 19:47:08.000000   \n",
       "...       ...                         ...                         ...   \n",
       "28512  657282  2006-04-16 13:35:13.000000  2006-04-16 13:35:13.000000   \n",
       "28513  657283  2006-04-02 16:37:24.000000  2006-04-02 16:37:24.000000   \n",
       "28514  657283  2006-04-02 19:10:12.000000  2006-04-02 16:37:24.000000   \n",
       "28515  657283  2006-04-02 19:10:12.000000  2006-04-02 19:10:12.000000   \n",
       "28516  657307  2006-04-07 15:49:40.000000  2006-04-07 15:49:40.000000   \n",
       "\n",
       "       SECONDS_DIFFERENCE  MINUTES_DIFFERENCE  \n",
       "0                       0            0.000000  \n",
       "1                 1107598        18459.966667  \n",
       "2                    5690           94.833333  \n",
       "3                       0            0.000000  \n",
       "4                    7648          127.466667  \n",
       "...                   ...                 ...  \n",
       "28512                   0            0.000000  \n",
       "28513                   0            0.000000  \n",
       "28514                9168          152.800000  \n",
       "28515                   0            0.000000  \n",
       "28516                   0            0.000000  \n",
       "\n",
       "[28517 rows x 5 columns]"
      ]
     },
     "execution_count": 60,
     "metadata": {},
     "output_type": "execute_result"
    }
   ],
   "source": [
    "print(df_during_disaster.shape)\n",
    "df_during_disaster"
   ]
  },
  {
   "cell_type": "markdown",
   "metadata": {},
   "source": [
    "#### Sessions not during natural disaster"
   ]
  },
  {
   "cell_type": "code",
   "execution_count": 61,
   "metadata": {},
   "outputs": [
    {
     "name": "stdout",
     "output_type": "stream",
     "text": [
      "   ANONID            TIME_AS_DATETIME              LAGGEDDATETIME  \\\n",
      "0      15  2006-03-11 09:55:17.000000  2006-03-11 09:55:17.000000   \n",
      "1      15  2006-03-18 21:02:45.000000  2006-03-11 09:55:17.000000   \n",
      "2      15  2006-03-18 21:06:01.000000  2006-03-18 21:02:45.000000   \n",
      "3      15  2006-03-21 19:55:51.000000  2006-03-18 21:06:01.000000   \n",
      "4      15  2006-03-21 20:09:22.000000  2006-03-21 19:55:51.000000   \n",
      "\n",
      "   SECONDS_DIFFERENCE  MINUTES_DIFFERENCE  \n",
      "0                   0            0.000000  \n",
      "1              644848        10747.466667  \n",
      "2                 196            3.266667  \n",
      "3              254990         4249.833333  \n",
      "4                 811           13.516667  \n"
     ]
    }
   ],
   "source": [
    "# The anonIDs, interclick times, and session info for those sessions occuring during a tornado\n",
    "q = '''\n",
    "SELECT \n",
    "    T1.ANONID,\n",
    "    T1.TIME_AS_DATETIME,\n",
    "    COALESCE(LAG(TIME_AS_DATETIME) OVER (PARTITION BY ANONID ORDER BY TIME_AS_DATETIME), TIME_AS_DATETIME) AS LaggedDateTime,\n",
    "    SECONDS_BETWEEN(T1.TIME_AS_DATETIME, COALESCE(LAG(TIME_AS_DATETIME) OVER (PARTITION BY ANONID ORDER BY TIME_AS_DATETIME), TIME_AS_DATETIME)) as Seconds_Difference,\n",
    "    MINUTES_BETWEEN(T1.TIME_AS_DATETIME, COALESCE(LAG(TIME_AS_DATETIME) OVER (PARTITION BY ANONID ORDER BY TIME_AS_DATETIME), TIME_AS_DATETIME)) as Minutes_Difference\n",
    "FROM \n",
    "    AOL_SCHEMA.INTERARRIVAL_TIMES as T1\n",
    "WHERE \n",
    "    T1.ANONID IN (\n",
    "        SELECT T2.ANONID\n",
    "        FROM AOL_SCHEMA.INTERARRIVAL_TIMES as T2\n",
    "        GROUP BY T2.ANONID\n",
    "        HAVING COUNT(T2.ANONID) >= 10\n",
    "    ) \n",
    "    AND NOT EXISTS(\n",
    "        SELECT 1\n",
    "        FROM AOL_SCHEMA.WEATHER_EVENTS as T3 \n",
    "        WHERE \n",
    "            (T1.TIME_AS_DATETIME BETWEEN T3.BEGIN_DATE_TIME AND T3.END_DATE_TIME)\n",
    "            AND (T3.EVENT_TYPE = 'Tornado')\n",
    "    )\n",
    "ORDER BY\n",
    "    T1.ANONID,\n",
    "    T1.TIME_AS_DATETIME\n",
    "'''\n",
    "\n",
    "df_not_during_disaster = printQuery(q, conn)"
   ]
  },
  {
   "cell_type": "code",
   "execution_count": 62,
   "metadata": {},
   "outputs": [
    {
     "data": {
      "text/html": [
       "<div>\n",
       "<style scoped>\n",
       "    .dataframe tbody tr th:only-of-type {\n",
       "        vertical-align: middle;\n",
       "    }\n",
       "\n",
       "    .dataframe tbody tr th {\n",
       "        vertical-align: top;\n",
       "    }\n",
       "\n",
       "    .dataframe thead th {\n",
       "        text-align: right;\n",
       "    }\n",
       "</style>\n",
       "<table border=\"1\" class=\"dataframe\">\n",
       "  <thead>\n",
       "    <tr style=\"text-align: right;\">\n",
       "      <th></th>\n",
       "      <th>ANONID</th>\n",
       "      <th>TIME_AS_DATETIME</th>\n",
       "      <th>LAGGEDDATETIME</th>\n",
       "      <th>SECONDS_DIFFERENCE</th>\n",
       "      <th>MINUTES_DIFFERENCE</th>\n",
       "    </tr>\n",
       "  </thead>\n",
       "  <tbody>\n",
       "    <tr>\n",
       "      <th>0</th>\n",
       "      <td>15</td>\n",
       "      <td>2006-03-11 09:55:17.000000</td>\n",
       "      <td>2006-03-11 09:55:17.000000</td>\n",
       "      <td>0</td>\n",
       "      <td>0.000000</td>\n",
       "    </tr>\n",
       "    <tr>\n",
       "      <th>1</th>\n",
       "      <td>15</td>\n",
       "      <td>2006-03-18 21:02:45.000000</td>\n",
       "      <td>2006-03-11 09:55:17.000000</td>\n",
       "      <td>644848</td>\n",
       "      <td>10747.466667</td>\n",
       "    </tr>\n",
       "    <tr>\n",
       "      <th>2</th>\n",
       "      <td>15</td>\n",
       "      <td>2006-03-18 21:06:01.000000</td>\n",
       "      <td>2006-03-18 21:02:45.000000</td>\n",
       "      <td>196</td>\n",
       "      <td>3.266667</td>\n",
       "    </tr>\n",
       "    <tr>\n",
       "      <th>3</th>\n",
       "      <td>15</td>\n",
       "      <td>2006-03-21 19:55:51.000000</td>\n",
       "      <td>2006-03-18 21:06:01.000000</td>\n",
       "      <td>254990</td>\n",
       "      <td>4249.833333</td>\n",
       "    </tr>\n",
       "    <tr>\n",
       "      <th>4</th>\n",
       "      <td>15</td>\n",
       "      <td>2006-03-21 20:09:22.000000</td>\n",
       "      <td>2006-03-21 19:55:51.000000</td>\n",
       "      <td>811</td>\n",
       "      <td>13.516667</td>\n",
       "    </tr>\n",
       "    <tr>\n",
       "      <th>...</th>\n",
       "      <td>...</td>\n",
       "      <td>...</td>\n",
       "      <td>...</td>\n",
       "      <td>...</td>\n",
       "      <td>...</td>\n",
       "    </tr>\n",
       "    <tr>\n",
       "      <th>999853</th>\n",
       "      <td>657399</td>\n",
       "      <td>2006-04-11 09:28:37.000000</td>\n",
       "      <td>2006-04-11 09:22:01.000000</td>\n",
       "      <td>396</td>\n",
       "      <td>6.600000</td>\n",
       "    </tr>\n",
       "    <tr>\n",
       "      <th>999854</th>\n",
       "      <td>657399</td>\n",
       "      <td>2006-04-11 09:33:27.000000</td>\n",
       "      <td>2006-04-11 09:28:37.000000</td>\n",
       "      <td>290</td>\n",
       "      <td>4.833333</td>\n",
       "    </tr>\n",
       "    <tr>\n",
       "      <th>999855</th>\n",
       "      <td>657399</td>\n",
       "      <td>2006-04-11 09:36:22.000000</td>\n",
       "      <td>2006-04-11 09:33:27.000000</td>\n",
       "      <td>175</td>\n",
       "      <td>2.916667</td>\n",
       "    </tr>\n",
       "    <tr>\n",
       "      <th>999856</th>\n",
       "      <td>657399</td>\n",
       "      <td>2006-04-24 19:48:08.000000</td>\n",
       "      <td>2006-04-11 09:36:22.000000</td>\n",
       "      <td>1159906</td>\n",
       "      <td>19331.766667</td>\n",
       "    </tr>\n",
       "    <tr>\n",
       "      <th>999857</th>\n",
       "      <td>657399</td>\n",
       "      <td>2006-04-29 19:11:47.000000</td>\n",
       "      <td>2006-04-24 19:48:08.000000</td>\n",
       "      <td>429819</td>\n",
       "      <td>7163.650000</td>\n",
       "    </tr>\n",
       "  </tbody>\n",
       "</table>\n",
       "<p>999858 rows × 5 columns</p>\n",
       "</div>"
      ],
      "text/plain": [
       "        ANONID            TIME_AS_DATETIME              LAGGEDDATETIME  \\\n",
       "0           15  2006-03-11 09:55:17.000000  2006-03-11 09:55:17.000000   \n",
       "1           15  2006-03-18 21:02:45.000000  2006-03-11 09:55:17.000000   \n",
       "2           15  2006-03-18 21:06:01.000000  2006-03-18 21:02:45.000000   \n",
       "3           15  2006-03-21 19:55:51.000000  2006-03-18 21:06:01.000000   \n",
       "4           15  2006-03-21 20:09:22.000000  2006-03-21 19:55:51.000000   \n",
       "...        ...                         ...                         ...   \n",
       "999853  657399  2006-04-11 09:28:37.000000  2006-04-11 09:22:01.000000   \n",
       "999854  657399  2006-04-11 09:33:27.000000  2006-04-11 09:28:37.000000   \n",
       "999855  657399  2006-04-11 09:36:22.000000  2006-04-11 09:33:27.000000   \n",
       "999856  657399  2006-04-24 19:48:08.000000  2006-04-11 09:36:22.000000   \n",
       "999857  657399  2006-04-29 19:11:47.000000  2006-04-24 19:48:08.000000   \n",
       "\n",
       "        SECONDS_DIFFERENCE  MINUTES_DIFFERENCE  \n",
       "0                        0            0.000000  \n",
       "1                   644848        10747.466667  \n",
       "2                      196            3.266667  \n",
       "3                   254990         4249.833333  \n",
       "4                      811           13.516667  \n",
       "...                    ...                 ...  \n",
       "999853                 396            6.600000  \n",
       "999854                 290            4.833333  \n",
       "999855                 175            2.916667  \n",
       "999856             1159906        19331.766667  \n",
       "999857              429819         7163.650000  \n",
       "\n",
       "[999858 rows x 5 columns]"
      ]
     },
     "execution_count": 62,
     "metadata": {},
     "output_type": "execute_result"
    }
   ],
   "source": [
    "df_not_during_disaster.shape\n",
    "df_not_during_disaster"
   ]
  },
  {
   "cell_type": "markdown",
   "metadata": {},
   "source": [
    "#### Check histograms per user"
   ]
  },
  {
   "cell_type": "code",
   "execution_count": 63,
   "metadata": {},
   "outputs": [
    {
     "data": {
      "text/plain": [
       "(array([910.,  48.,  42.,  10.,   9.,   2.,   0.,   1.,   0.,   3.]),\n",
       " array([   0.        ,  278.23833333,  556.47666667,  834.715     ,\n",
       "        1112.95333333, 1391.19166667, 1669.43      , 1947.66833333,\n",
       "        2225.90666667, 2504.145     , 2782.38333333]),\n",
       " <BarContainer object of 10 artists>)"
      ]
     },
     "execution_count": 63,
     "metadata": {},
     "output_type": "execute_result"
    },
    {
     "data": {
      "image/png": "[encoded data removed]",
      "text/plain": [
       "<Figure size 640x480 with 1 Axes>"
      ]
     },
     "metadata": {},
     "output_type": "display_data"
    }
   ],
   "source": [
    "import matplotlib.pyplot as plt\n",
    "\n",
    "plt.hist(df_not_during_disaster[df_not_during_disaster['ANONID'] == 42833]['MINUTES_DIFFERENCE'])"
   ]
  },
  {
   "cell_type": "markdown",
   "metadata": {},
   "source": [
    "#### Concatenate all interclick times - not during disaster\n",
    "\n",
    "Look at a histogram of this. Labels and title"
   ]
  },
  {
   "cell_type": "code",
   "execution_count": 64,
   "metadata": {},
   "outputs": [
    {
     "data": {
      "image/png": "[encoded data removed]",
      "text/plain": [
       "<Figure size 640x480 with 1 Axes>"
      ]
     },
     "metadata": {},
     "output_type": "display_data"
    }
   ],
   "source": [
    "# Get rid of those interclick times that are 0 and those that are more than 10 hours\n",
    "plotting_df = df_not_during_disaster[df_not_during_disaster['MINUTES_DIFFERENCE'] < 600]\n",
    "plotting_df = plotting_df[plotting_df['MINUTES_DIFFERENCE'] > 0]['MINUTES_DIFFERENCE']\n",
    "\n",
    "max_value = max(plotting_df)\n",
    "bin_width = 15\n",
    "bins = list(range(0, int(max_value) + bin_width, bin_width))\n",
    "plt.hist(plotting_df, bins=bins, density=True)\n",
    "\n",
    "plt.xlabel('Minutes between clicks')\n",
    "plt.ylabel('Frequency')\n",
    "plt.title('Overall Distribution of Interclick Times')\n",
    "plt.show()\n"
   ]
  },
  {
   "cell_type": "markdown",
   "metadata": {},
   "source": [
    "#### Find the rate parameter of the distribution - Equal to that of the poisson process."
   ]
  },
  {
   "cell_type": "code",
   "execution_count": 65,
   "metadata": {},
   "outputs": [
    {
     "name": "stdout",
     "output_type": "stream",
     "text": [
      "0.008830374164159795\n",
      "0.008830374164159795\n"
     ]
    }
   ],
   "source": [
    "rate = 1/plotting_df.mean()\n",
    "print(rate)\n",
    "\n",
    "rate_mins_during_disaster = 1/df_not_during_disaster[df_not_during_disaster['MINUTES_DIFFERENCE'] > 0]['MINUTES_DIFFERENCE'].mean()\n",
    "print(rate)\n"
   ]
  },
  {
   "cell_type": "markdown",
   "metadata": {},
   "source": [
    "#### Concatenate all interclick times - during disaster"
   ]
  },
  {
   "cell_type": "code",
   "execution_count": 66,
   "metadata": {},
   "outputs": [
    {
     "data": {
      "image/png": "[encoded data removed]",
      "text/plain": [
       "<Figure size 640x480 with 1 Axes>"
      ]
     },
     "metadata": {},
     "output_type": "display_data"
    }
   ],
   "source": [
    "# Get rid of those interclick times that are 0 and those that are more than 10 hours\n",
    "plotting_df = df_during_disaster[df_during_disaster['MINUTES_DIFFERENCE'] < 600]\n",
    "plotting_df = plotting_df[plotting_df['MINUTES_DIFFERENCE'] > 0]['MINUTES_DIFFERENCE']\n",
    "\n",
    "max_value = max(plotting_df)\n",
    "bin_width = 15\n",
    "bins = list(range(0, int(max_value) + bin_width, bin_width))\n",
    "plt.hist(plotting_df, bins=bins, density=True)\n",
    "\n",
    "plt.xlabel('Minutes between clicks')\n",
    "plt.ylabel('Frequency')\n",
    "plt.title('Overall Distribution of Interclick Times')\n",
    "plt.show()"
   ]
  },
  {
   "cell_type": "markdown",
   "metadata": {},
   "source": [
    "#### Find parameter estimate of distribution"
   ]
  },
  {
   "cell_type": "code",
   "execution_count": 67,
   "metadata": {},
   "outputs": [
    {
     "name": "stdout",
     "output_type": "stream",
     "text": [
      "0.01881562269662926\n",
      "0.01881562269662926\n"
     ]
    }
   ],
   "source": [
    "rate = 1/plotting_df.mean()\n",
    "print(rate)\n",
    "\n",
    "rate_mins_during_disaster = 1/df_during_disaster[df_during_disaster['MINUTES_DIFFERENCE'] > 0]['MINUTES_DIFFERENCE'].mean()\n",
    "print(rate)\n"
   ]
  },
  {
   "cell_type": "markdown",
   "metadata": {},
   "source": [
    "#### Do the same thing with seconds - not during disaster"
   ]
  },
  {
   "cell_type": "code",
   "execution_count": 74,
   "metadata": {},
   "outputs": [
    {
     "data": {
      "image/png": "[encoded data removed]",
      "text/plain": [
       "<Figure size 640x480 with 1 Axes>"
      ]
     },
     "metadata": {},
     "output_type": "display_data"
    }
   ],
   "source": [
    "# Get rid of those interclick times that are 0 and those that are more than 10 hours\n",
    "plotting_df = df_not_during_disaster[df_not_during_disaster['SECONDS_DIFFERENCE'] < 36000]\n",
    "plotting_df = plotting_df[plotting_df['SECONDS_DIFFERENCE'] > 0]['SECONDS_DIFFERENCE']\n",
    "\n",
    "max_value = max(plotting_df)\n",
    "bin_width = 15\n",
    "bins = list(range(0, int(max_value) + bin_width, bin_width))\n",
    "plt.hist(plotting_df, bins=bins, density=True)\n",
    "plt.ylim(top=0.0006)\n",
    "plt.xlabel('Seconds between clicks')\n",
    "plt.ylabel('Proportion')\n",
    "plt.title('Distribution of Interclick Times Not During a Disaster')\n",
    "plt.show()"
   ]
  },
  {
   "cell_type": "code",
   "execution_count": 69,
   "metadata": {},
   "outputs": [
    {
     "name": "stdout",
     "output_type": "stream",
     "text": [
      "0.0001471729027359966\n",
      "0.0001471729027359966\n"
     ]
    }
   ],
   "source": [
    "rate = 1/plotting_df.mean()\n",
    "print(rate)\n",
    "\n",
    "rate_secs_not_during_disaster = 1/df_not_during_disaster[df_not_during_disaster['SECONDS_DIFFERENCE'] > 0]['SECONDS_DIFFERENCE'].mean()\n",
    "print(rate)\n"
   ]
  },
  {
   "cell_type": "markdown",
   "metadata": {},
   "source": [
    "#### Do the same thing with seconds - during disaster"
   ]
  },
  {
   "cell_type": "code",
   "execution_count": 70,
   "metadata": {},
   "outputs": [
    {
     "data": {
      "image/png": "[encoded data removed]",
      "text/plain": [
       "<Figure size 640x480 with 1 Axes>"
      ]
     },
     "metadata": {},
     "output_type": "display_data"
    }
   ],
   "source": [
    "# Get rid of those interclick times that are 0 and those that are more than 10 hours\n",
    "plotting_df = df_during_disaster[df_during_disaster['SECONDS_DIFFERENCE'] < 36000]\n",
    "plotting_df = plotting_df[plotting_df['SECONDS_DIFFERENCE'] > 0]['SECONDS_DIFFERENCE']\n",
    "\n",
    "max_value = max(plotting_df)\n",
    "bin_width = 15\n",
    "bins = list(range(0, int(max_value) + bin_width, bin_width))\n",
    "plt.hist(plotting_df, bins=bins, density=True)\n",
    "plt.ylim(top=0.0015)\n",
    "plt.xlabel('Seconds between clicks')\n",
    "plt.ylabel('Proportion')\n",
    "plt.title('Distribution of Interclick Times During a Disaster')\n",
    "plt.show()"
   ]
  },
  {
   "cell_type": "code",
   "execution_count": 71,
   "metadata": {},
   "outputs": [
    {
     "name": "stdout",
     "output_type": "stream",
     "text": [
      "0.0003135937116104877\n",
      "0.0003135937116104877\n"
     ]
    }
   ],
   "source": [
    "rate = 1/plotting_df.mean()\n",
    "print(rate)\n",
    "\n",
    "rate_secs_not_during_disaster = 1/df_during_disaster[df_during_disaster['SECONDS_DIFFERENCE'] > 0]['SECONDS_DIFFERENCE'].mean()\n",
    "print(rate)\n"
   ]
  },
  {
   "cell_type": "markdown",
   "metadata": {},
   "source": [
    "## STATISTICAL TESTS"
   ]
  },
  {
   "cell_type": "markdown",
   "metadata": {},
   "source": [
    "#### Is there a statistically significant difference between the interclick times occurring during a tornado and those occurring during a time period with no tornado?"
   ]
  },
  {
   "cell_type": "markdown",
   "metadata": {},
   "source": [
    "T-Test assuming non-equal variance\n",
    "\n",
    "Significance level: 0.05\n",
    "\n",
    "H_0: There is no difference in mean interclick time between those occurring during and those not occurring during a natural disaster.\n",
    "\n",
    "H_A: There is a difference in mean interclick time between those occurring during and those not occurring during a natural disaster."
   ]
  },
  {
   "cell_type": "code",
   "execution_count": 72,
   "metadata": {},
   "outputs": [
    {
     "name": "stdout",
     "output_type": "stream",
     "text": [
      "TtestResult(statistic=-44.54663771218602, pvalue=0.0, df=10163.71350089679)\n"
     ]
    }
   ],
   "source": [
    "import scipy\n",
    "\n",
    "not_during_disaster = df_not_during_disaster[df_not_during_disaster['SECONDS_DIFFERENCE'] > 0]['SECONDS_DIFFERENCE']\n",
    "during_disaster = df_during_disaster[df_during_disaster['SECONDS_DIFFERENCE'] > 0]['SECONDS_DIFFERENCE']\n",
    "\n",
    "print(scipy.stats.ttest_ind(not_during_disaster, during_disaster, equal_var=False))"
   ]
  },
  {
   "cell_type": "markdown",
   "metadata": {},
   "source": [
    "Because the p-value is less than the significance level of 0.05, we reject the null hypothesis of: There is no difference in mean interclick time between those occurring during and those not occurring during a natural disaster. That is, the statistical evidence is consistent with the alternative hypothesis: There is a difference in mean interclick time between those occurring during and those not occurring during a natural disaster."
   ]
  }
 ],
 "metadata": {
  "kernelspec": {
   "display_name": "PDSP",
   "language": "python",
   "name": "python3"
  },
  "language_info": {
   "codemirror_mode": {
    "name": "ipython",
    "version": 3
   },
   "file_extension": ".py",
   "mimetype": "text/x-python",
   "name": "python",
   "nbconvert_exporter": "python",
   "pygments_lexer": "ipython3",
   "version": "3.12.7"
  }
 },
 "nbformat": 4,
 "nbformat_minor": 2
}
